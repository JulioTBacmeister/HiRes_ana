{
 "cells": [
  {
   "cell_type": "code",
   "execution_count": 1,
   "id": "9460c65c-ba65-4efc-92cc-ea6a1487fc3c",
   "metadata": {},
   "outputs": [
    {
     "name": "stdout",
     "output_type": "stream",
     "text": [
      " Utils.MyConstants in /glade/work/juliob/HiRes_ana_repo4/Drivers/Utils \n",
      "Using Flexible parallel/serial VertRegrid \n",
      " Utils.MyConstants in /glade/work/juliob/HiRes_ana_repo4/Drivers/Utils \n"
     ]
    },
    {
     "data": {
      "text/plain": [
       "<module 'Utils.GridUtils' from '/glade/work/juliob/HiRes_ana_repo4/Drivers/Utils/GridUtils.py'>"
      ]
     },
     "execution_count": 1,
     "metadata": {},
     "output_type": "execute_result"
    }
   ],
   "source": [
    "#Set up paths\n",
    "import sys\n",
    "import os\n",
    "\n",
    "from Utils import utils as uti\n",
    "\n",
    "from Utils import GridUtils as GrU\n",
    "from Utils import MakePressures as MkP\n",
    "\n",
    "import RegridField as RgF\n",
    "\n",
    "import regrid_HRxLR as rHL\n",
    "\n",
    "\n",
    "# The usual\n",
    "from datetime import date\n",
    "import numpy as np\n",
    "import xarray as xr\n",
    "import matplotlib.pyplot as plt\n",
    "import matplotlib.tri as tri\n",
    "\n",
    "# Cartopy for pretty maps\n",
    "import cartopy\n",
    "import cartopy.crs as ccrs\n",
    "import cartopy.feature as cfeature\n",
    "\n",
    "# Some other useful packages \n",
    "import importlib\n",
    "import copy\n",
    "import time\n",
    "import cftime\n",
    "import yaml\n",
    "import glob\n",
    "#from box import Box #???\n",
    "\n",
    "importlib.reload( rHL )\n",
    "importlib.reload(MkP)\n",
    "importlib.reload(GrU)\n"
   ]
  },
  {
   "cell_type": "code",
   "execution_count": 2,
   "id": "5dda63cb-2120-451a-893f-e60abb186d5b",
   "metadata": {},
   "outputs": [
    {
     "name": "stdout",
     "output_type": "stream",
     "text": [
      "{'Dst': 'fv1x1', 'DstVgrid': 'L93', 'Case': 'c153_topfix_ne240pg3_FMTHIST_xic_x02', 'Archive_base': None, 'Output_abs_dir': None, 'day': 2, 'hour': 0, 'month': 7, 'year': 2004}\n",
      "2004 int 7 int\n",
      "2 int 0 int\n",
      "2 int 0 int\n",
      "[2]\n",
      "[0]\n",
      "ne240pg3_x_ne16pg3_CONSERVE_2ND will be created !!!!\n",
      "Ready to go ... ne240pg3 -x- ne16pg3 0.0000 seconds\n",
      "Finished Grid Mesh creation  46.7423 seconds\n",
      "/glade/campaign/cesm/cesmdata/cseg/inputdata/share/scripgrids/ne16pg3_scrip_170429.nc \n",
      " (13824,)\n",
      "/glade/campaign/cesm/cesmdata/cseg/inputdata/share/scripgrids/ne240pg3_scrip_170628.nc \n",
      " (3110400,)\n",
      "Finished dstField,srcField  47.0766 seconds\n",
      "/glade/work/juliob/GridFiles/Weights/ne240pg3_x_ne16pg3_CONSERVE_2ND.nc\n",
      "Reading weights from /glade/work/juliob/GridFiles/Weights/ne240pg3_x_ne16pg3_CONSERVE_2ND.nc \n",
      "Finished generatind Regrd from wgts file 61.2747 seconds\n",
      "ne16pg3_x_ne240pg3_BILINEAR will be created !!!!\n",
      "Ready to go ... ne16pg3 -x- ne240pg3 0.0000 seconds\n",
      "Finished Grid Mesh creation  50.6121 seconds\n",
      "/glade/campaign/cesm/cesmdata/cseg/inputdata/share/scripgrids/ne240pg3_scrip_170628.nc \n",
      " (3110400,)\n",
      "/glade/campaign/cesm/cesmdata/cseg/inputdata/share/scripgrids/ne16pg3_scrip_170429.nc \n",
      " (13824,)\n",
      "Finished dstField,srcField  50.9404 seconds\n",
      "/glade/work/juliob/GridFiles/Weights/ne16pg3_x_ne240pg3_BILINEAR.nc\n",
      "Reading weights from /glade/work/juliob/GridFiles/Weights/ne16pg3_x_ne240pg3_BILINEAR.nc \n",
      "Finished generatind Regrd from wgts file 74.5459 seconds\n",
      "ne240pg3_x_fv1x1_CONSERVE_2ND will be created !!!!\n",
      "Ready to go ... ne240pg3 -x- fv1x1 0.0000 seconds\n",
      "Finished Grid Mesh creation  52.1003 seconds\n",
      "/glade/campaign/cesm/cesmdata/cseg/inputdata/share/scripgrids/fv0.9x1.25_141008.nc \n",
      " (288, 192)\n",
      "/glade/campaign/cesm/cesmdata/cseg/inputdata/share/scripgrids/ne240pg3_scrip_170628.nc \n",
      " (3110400,)\n",
      "Finished dstField,srcField  52.4161 seconds\n",
      "/glade/work/juliob/GridFiles/Weights/ne240pg3_x_fv1x1_CONSERVE_2ND.nc\n",
      "Reading weights from /glade/work/juliob/GridFiles/Weights/ne240pg3_x_fv1x1_CONSERVE_2ND.nc \n",
      "Finished generatind Regrd from wgts file 72.8443 seconds\n",
      "ne16pg3_x_fv1x1_BILINEAR will be created !!!!\n",
      "Ready to go ... ne16pg3 -x- fv1x1 0.0000 seconds\n",
      "Finished Grid Mesh creation  0.1128 seconds\n",
      "/glade/campaign/cesm/cesmdata/cseg/inputdata/share/scripgrids/fv0.9x1.25_141008.nc \n",
      " (288, 192)\n",
      "/glade/campaign/cesm/cesmdata/cseg/inputdata/share/scripgrids/ne16pg3_scrip_170429.nc \n",
      " (13824,)\n",
      "Finished dstField,srcField  0.1159 seconds\n",
      "/glade/work/juliob/GridFiles/Weights/ne16pg3_x_fv1x1_BILINEAR.nc\n",
      "Reading weights from /glade/work/juliob/GridFiles/Weights/ne16pg3_x_fv1x1_BILINEAR.nc \n",
      "Finished generatind Regrd from wgts file 0.4590 seconds\n",
      "Processing /glade/derecho/scratch/juliob/archive//c153_topfix_ne240pg3_FMTHIST_xic_x02/atm/hist/c153_topfix_ne240pg3_FMTHIST_xic_x02.cam.h1i.2004-07-02-00000.nc \n",
      "finished U\n",
      "finished V\n",
      "finished OMEGA\n",
      "   Wrote /glade/derecho/scratch/juliob/archive//c153_topfix_ne240pg3_FMTHIST_xic_x02/atm/fv1x1/c153_topfix_ne240pg3_FMTHIST_xic_x02.cam.h1i.2004-07-02-00000.nc \n",
      "CPU times: user 3min 21s, sys: 8.09 s, total: 3min 29s\n",
      "Wall time: 3min 54s\n"
     ]
    }
   ],
   "source": [
    "%%time\n",
    "\n",
    "rHL.drive()\n",
    "#wO,wOx2xO,lonO,latO= rHL.drive()\n",
    "#upwp,lon1,lat1 = rHL.drive()\n",
    "#Xoo = rHL.drive()\n",
    "\n",
    "\n"
   ]
  },
  {
   "cell_type": "code",
   "execution_count": null,
   "id": "09d4c631-cc66-40d0-a474-25f731c1c49b",
   "metadata": {},
   "outputs": [],
   "source": [
    "%%time\n",
    "foo='/glade/derecho/scratch/juliob/archive//c153_topfix_ne240pg3_FMTHIST_xic_x02/atm/fv1x1/c153_topfix_ne240pg3_FMTHIST_xic_x02.cam.h1i.2004-07-01-64800.nc'\n",
    "Xoo=xr.open_dataset( foo )"
   ]
  },
  {
   "cell_type": "code",
   "execution_count": null,
   "id": "da460def-9ef9-42bb-b805-2f222e1d6022",
   "metadata": {},
   "outputs": [],
   "source": [
    "upwp=Xoo.upwp.values\n",
    "\n",
    "\n",
    "f='/glade/derecho/scratch/juliob/archive/c153_topfix_ne240pg3_FMTHIST_xic_x02/atm/GWana/c153_topfix_ne240pg3_FMTHIST_xic_x02_GWana_xPyP_2004-07-01_2004-07-31.nc'\n",
    "X1 = xr.open_dataset( f )\n",
    "\n",
    "f = '/glade/derecho/scratch/juliob/archive/c153_topfix_ne240pg3_FMTHIST_xic_x02/atm/hist/c153_topfix_ne240pg3_FMTHIST_xic_x02.cam.h1i.2004-07-01-00000.nc'\n",
    "X=xr.open_dataset( f )\n",
    "\n",
    "target_plevs = [ 932.0, 856., 499., 227.0,  58., 2.8]\n",
    "plevs = X.lev.values\n",
    "lev_sel = uti.find_nearest_plev_indices(plev=plevs , target_levels=target_plevs )\n",
    "\n",
    "\n",
    "print( X.lev.values[lev_sel] )\n",
    "print( lev_sel )\n",
    "\n",
    "\n",
    "uPomegaP = X1.uPomegaP.values\n"
   ]
  },
  {
   "cell_type": "code",
   "execution_count": null,
   "id": "2369e9d5-cf0c-48f1-9ec6-bd2653f818a8",
   "metadata": {},
   "outputs": [],
   "source": [
    "fig,axs=plt.subplots( 1,4, figsize=(28,8) ) \n",
    "ax=axs[0]\n",
    "co=ax.contourf( uPomegaP[3,4,:,:] )\n",
    "cbar = plt.colorbar( co )\n",
    "ax=axs[1]\n",
    "co=ax.contourf( upwp[0,38,:,:] )\n",
    "cbar = plt.colorbar( co )\n",
    "ax=axs[2]\n",
    "co=ax.contourf( upwp[0,38,:,:] -  uPomegaP[3,4,:,:])\n",
    "cbar = plt.colorbar( co )\n",
    "\n",
    "ax=axs[3]\n",
    "#ax.plot( upwp[0,38,:,:].flatten() )  # -  uPomegaP[0,4,:,:] )\n",
    "ax.plot( (upwp[0,38,:,:] -  uPomegaP[3,4,:,:]).flatten() )\n",
    "\n"
   ]
  },
  {
   "cell_type": "code",
   "execution_count": null,
   "id": "6e86e275-4b96-4466-972c-ab184ef0ec76",
   "metadata": {},
   "outputs": [],
   "source": [
    "X.PS.long_name"
   ]
  },
  {
   "cell_type": "code",
   "execution_count": null,
   "id": "2751f964-d30d-44f2-9de2-b77611319830",
   "metadata": {},
   "outputs": [],
   "source": [
    "Xoo.upwp"
   ]
  },
  {
   "cell_type": "code",
   "execution_count": null,
   "id": "2dfc3b43-50df-406a-a74a-a87033c2a3f7",
   "metadata": {},
   "outputs": [],
   "source": []
  }
 ],
 "metadata": {
  "kernelspec": {
   "display_name": "NPL 2025b",
   "language": "python",
   "name": "npl-2025b"
  },
  "language_info": {
   "codemirror_mode": {
    "name": "ipython",
    "version": 3
   },
   "file_extension": ".py",
   "mimetype": "text/x-python",
   "name": "python",
   "nbconvert_exporter": "python",
   "pygments_lexer": "ipython3",
   "version": "3.12.11"
  }
 },
 "nbformat": 4,
 "nbformat_minor": 5
}
