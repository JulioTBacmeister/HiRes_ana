{
 "cells": [
  {
   "cell_type": "code",
   "execution_count": null,
   "id": "9460c65c-ba65-4efc-92cc-ea6a1487fc3c",
   "metadata": {},
   "outputs": [],
   "source": [
    "#Set up paths\n",
    "import sys\n",
    "import os\n",
    "\n",
    "from Utils import utils as uti\n",
    "\n",
    "from Utils import GridUtils as GrU\n",
    "from Utils import MakePressures as MkP\n",
    "\n",
    "import RegridField as RgF\n",
    "\n",
    "import regrid_HRxLR as rHL\n",
    "\n",
    "\n",
    "# The usual\n",
    "from datetime import date\n",
    "import numpy as np\n",
    "import xarray as xr\n",
    "import matplotlib.pyplot as plt\n",
    "import matplotlib.tri as tri\n",
    "\n",
    "# Cartopy for pretty maps\n",
    "import cartopy\n",
    "import cartopy.crs as ccrs\n",
    "import cartopy.feature as cfeature\n",
    "\n",
    "# Some other useful packages \n",
    "import importlib\n",
    "import copy\n",
    "import time\n",
    "import cftime\n",
    "import yaml\n",
    "import glob\n",
    "#from box import Box #???\n",
    "\n",
    "importlib.reload( rHL )\n",
    "importlib.reload(MkP)\n",
    "importlib.reload(GrU)\n"
   ]
  },
  {
   "cell_type": "code",
   "execution_count": null,
   "id": "5dda63cb-2120-451a-893f-e60abb186d5b",
   "metadata": {},
   "outputs": [],
   "source": [
    "%%time\n",
    "\n",
    "rHL.drive()\n",
    "#wO,wOx2xO,lonO,latO= rHL.drive()\n",
    "#upwp,lon1,lat1 = rHL.drive()\n",
    "#Xoo = rHL.drive()\n",
    "\n",
    "\n"
   ]
  },
  {
   "cell_type": "code",
   "execution_count": null,
   "id": "09d4c631-cc66-40d0-a474-25f731c1c49b",
   "metadata": {},
   "outputs": [],
   "source": [
    "%%time\n",
    "#foo='/glade/derecho/scratch/juliob/archive//c153_topfix_ne240pg3_FMTHIST_xic_x02/atm/fv1x1/c153_topfix_ne240pg3_FMTHIST_xic_x02.cam.h1i.2004-07-01-64800.nc'\n",
    "foo='/glade/derecho/scratch/juliob/archive//c153_topfix_ne240pg3_FMTHIST_xic_x02/atm/fv1x1/c153_topfix_ne240pg3_FMTHIST_xic_x02.cam.h1i.2004-07-02-00000.nc'\n",
    "Xoo=xr.open_dataset( foo )"
   ]
  },
  {
   "cell_type": "code",
   "execution_count": null,
   "id": "da460def-9ef9-42bb-b805-2f222e1d6022",
   "metadata": {},
   "outputs": [],
   "source": [
    "upwp=Xoo.upwp.values\n",
    "\n",
    "\n",
    "f='/glade/derecho/scratch/juliob/archive/c153_topfix_ne240pg3_FMTHIST_xic_x02/atm/GWana/c153_topfix_ne240pg3_FMTHIST_xic_x02_GWana_xPyP_2004-07-01_2004-07-31.nc'\n",
    "X1 = xr.open_dataset( f )\n",
    "\n",
    "f = '/glade/derecho/scratch/juliob/archive/c153_topfix_ne240pg3_FMTHIST_xic_x02/atm/hist/c153_topfix_ne240pg3_FMTHIST_xic_x02.cam.h1i.2004-07-01-00000.nc'\n",
    "X=xr.open_dataset( f )\n",
    "\n",
    "target_plevs = [ 932.0, 856., 499., 227.0,  58., 2.8]\n",
    "plevs = X.lev.values\n",
    "lev_sel = uti.find_nearest_plev_indices(plev=plevs , target_levels=target_plevs )\n",
    "\n",
    "\n",
    "print( X.lev.values[lev_sel] )\n",
    "print( lev_sel )\n",
    "\n",
    "\n",
    "uPomegaP = X1.uPomegaP.values\n"
   ]
  },
  {
   "cell_type": "code",
   "execution_count": null,
   "id": "2369e9d5-cf0c-48f1-9ec6-bd2653f818a8",
   "metadata": {},
   "outputs": [],
   "source": [
    "fig,axs=plt.subplots( 1,4, figsize=(28,8) ) \n",
    "t=4\n",
    "ax=axs[0]\n",
    "co=ax.contourf( uPomegaP[t,4,:,:] )\n",
    "cbar = plt.colorbar( co )\n",
    "ax=axs[1]\n",
    "co=ax.contourf( upwp[0,38,:,:] )\n",
    "cbar = plt.colorbar( co )\n",
    "ax=axs[2]\n",
    "co=ax.contourf( upwp[0,38,:,:] -  uPomegaP[t,4,:,:])\n",
    "cbar = plt.colorbar( co )\n",
    "\n",
    "ax=axs[3]\n",
    "#ax.plot( upwp[0,38,:,:].flatten() )  # -  uPomegaP[0,4,:,:] )\n",
    "ax.plot( (upwp[0,38,:,:] -  uPomegaP[t,4,:,:]).flatten() )\n",
    "\n"
   ]
  },
  {
   "cell_type": "code",
   "execution_count": null,
   "id": "2dfc3b43-50df-406a-a74a-a87033c2a3f7",
   "metadata": {},
   "outputs": [],
   "source": []
  }
 ],
 "metadata": {
  "kernelspec": {
   "display_name": "NPL 2025b",
   "language": "python",
   "name": "npl-2025b"
  },
  "language_info": {
   "codemirror_mode": {
    "name": "ipython",
    "version": 3
   },
   "file_extension": ".py",
   "mimetype": "text/x-python",
   "name": "python",
   "nbconvert_exporter": "python",
   "pygments_lexer": "ipython3",
   "version": "3.12.11"
  }
 },
 "nbformat": 4,
 "nbformat_minor": 5
}
