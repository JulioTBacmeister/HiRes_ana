{
 "cells": [
  {
   "cell_type": "code",
   "execution_count": null,
   "id": "2b5fbc9d-70d3-4799-9509-40de45d3e15c",
   "metadata": {},
   "outputs": [],
   "source": [
    "import re\n",
    "\n",
    "\n",
    "\n",
    "def extract_grid_values_from_file(file_path):\n",
    "    # Read the code from the file\n",
    "    with open(file_path, 'r') as file:\n",
    "        code = file.read()\n",
    "\n",
    "    # Regular expression to match grid values in elif statements in the gridInfo function\n",
    "    pattern = r\"elif\\s+\\(grid\\s*==\\s*'([^']+)'\\)|elif\\s+\\(grid\\s*==\\s*'([^']+)'\\)|elif\\s+\\(\\(grid\\s*==\\s*'([^']+)'\\)\\s+or\\s+\\(grid\\s*==\\s*'([^']+)'\\)\\)\"\n",
    "\n",
    "    #pattern = r\"elif\\s*\\(\\s*grid\\s*==\\s*'([^']+)'\\s*\\)|elif\\s*\\(\\s*grid\\s*==\\s*'([^']+)'\\s*or\\s*grid\\s*==\\s*'([^']+)'\\s*\\)\"\n",
    "    matches = re.findall(pattern, code)\n",
    "\n",
    "    # Extract the grid values from matches\n",
    "    grid_values = set()\n",
    "    for match in matches:\n",
    "        grid_values.update([val for val in match if val])  # Add non-empty values\n",
    "\n",
    "    return sorted(grid_values)\n",
    "\n",
    "# Provide the path to the module file here\n",
    "file_path = './GridUtils.py'\n",
    "grid_values = extract_grid_values_from_file(file_path)\n",
    "\n",
    "print(\"Possible grid values in gridInfo function:\")\n",
    "for val in grid_values:\n",
    "    print(val)\n"
   ]
  },
  {
   "cell_type": "code",
   "execution_count": null,
   "id": "5686515d-7167-46e7-a188-470484d54ebe",
   "metadata": {},
   "outputs": [],
   "source": [
    "import re\n",
    "\n",
    "\n",
    "\n",
    "def extract_grid_values_from_file(file_path):\n",
    "    # Read the code from the file\n",
    "    with open(file_path, 'r') as file:\n",
    "        code = file.read()\n",
    "\n",
    "    # Regular expression to match grid values in elif statements in the gridInfo function\n",
    "    pattern = r\"elif\\s+\\(grid\\s*==\\s*'([^']+)'\\)|elif\\s+\\(grid\\s*==\\s*'([^']+)'\\)|elif\\s+\\(\\(grid\\s*==\\s*'([^']+)'\\)\\s+or\\s+\\(grid\\s*==\\s*'([^']+)'\\)\\)\"\n",
    "\n",
    "    pattern = r\"elif\\s*\\(\\s*grid\\s*==\\s*'([^']+)'\\s*\\)|elif\\s*\\(\\s*grid\\s*==\\s*'([^']+)'\\s*or\\s*grid\\s*==\\s*'([^']+)'\\s*\\)\"\n",
    "    matches = re.findall(pattern, code)\n",
    "\n",
    "    # Extract the grid values from matches\n",
    "    grid_values = set()\n",
    "    for match in matches:\n",
    "        grid_values.update([val for val in match if val])  # Add non-empty values\n",
    "\n",
    "    return sorted(grid_values)\n",
    "\n",
    "# Provide the path to the module file here\n",
    "file_path = './GridUtils.py'\n",
    "grid_values = extract_grid_values_from_file(file_path)\n",
    "\n",
    "print(\"Possible grid values in gridInfo function:\")\n",
    "for val in grid_values:\n",
    "    print(val)\n"
   ]
  },
  {
   "cell_type": "code",
   "execution_count": null,
   "id": "787cd7fa-2964-4f1e-b9e3-7f411bf55162",
   "metadata": {},
   "outputs": [],
   "source": []
  }
 ],
 "metadata": {
  "kernelspec": {
   "display_name": "NPL 2025b",
   "language": "python",
   "name": "npl-2025b"
  },
  "language_info": {
   "codemirror_mode": {
    "name": "ipython",
    "version": 3
   },
   "file_extension": ".py",
   "mimetype": "text/x-python",
   "name": "python",
   "nbconvert_exporter": "python",
   "pygments_lexer": "ipython3",
   "version": "3.12.11"
  }
 },
 "nbformat": 4,
 "nbformat_minor": 5
}
