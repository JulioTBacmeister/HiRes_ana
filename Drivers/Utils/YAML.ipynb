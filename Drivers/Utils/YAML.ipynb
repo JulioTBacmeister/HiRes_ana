{
 "cells": [
  {
   "cell_type": "code",
   "execution_count": null,
   "id": "b997d592-6e16-44bb-b53b-349e04ab8c04",
   "metadata": {},
   "outputs": [],
   "source": [
    "import yaml"
   ]
  },
  {
   "cell_type": "code",
   "execution_count": null,
   "id": "d11d1163-bf57-4877-adf2-34a8ad3664c0",
   "metadata": {
    "tags": []
   },
   "outputs": [],
   "source": [
    "with open('config_ADF.yaml', 'r') as file:\n",
    "    var_detail = yaml.safe_load(file)"
   ]
  },
  {
   "cell_type": "code",
   "execution_count": null,
   "id": "6862d75d-1cc0-42dc-a8b4-0496edbcae17",
   "metadata": {
    "tags": []
   },
   "outputs": [],
   "source": [
    "var_detail['U']"
   ]
  },
  {
   "cell_type": "code",
   "execution_count": null,
   "id": "37ab1dcf-b7ad-453b-8327-8d5ce3dbd1bd",
   "metadata": {
    "tags": []
   },
   "outputs": [],
   "source": [
    "for key,val in var_detail['U'].items():\n",
    "    print(f\"{key}: {val}\")"
   ]
  },
  {
   "cell_type": "code",
   "execution_count": null,
   "id": "e7d95232-974e-4f84-9f02-5447849ad8c4",
   "metadata": {},
   "outputs": [],
   "source": [
    "# Get nested values as you would normally from a python dictionary\n",
    "print(var_detail['U']['diff_contour_range'],\"\\n\")\n",
    "print(var_detail['U']['mpl']['colorbar']['label'])"
   ]
  }
 ],
 "metadata": {
  "kernelspec": {
   "display_name": "Python [conda env:npl-XTND]",
   "language": "python",
   "name": "conda-env-npl-XTND-py"
  },
  "language_info": {
   "codemirror_mode": {
    "name": "ipython",
    "version": 3
   },
   "file_extension": ".py",
   "mimetype": "text/x-python",
   "name": "python",
   "nbconvert_exporter": "python",
   "pygments_lexer": "ipython3",
   "version": "3.8.13"
  }
 },
 "nbformat": 4,
 "nbformat_minor": 5
}
